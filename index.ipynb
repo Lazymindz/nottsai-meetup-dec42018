{
 "cells": [
  {
   "cell_type": "markdown",
   "metadata": {
    "slideshow": {
     "slide_type": "slide"
    }
   },
   "source": [
    "## NOTTS - AI Monthly Catchup - December 2018"
   ]
  },
  {
   "cell_type": "markdown",
   "metadata": {
    "slideshow": {
     "slide_type": "slide"
    }
   },
   "source": [
    "## Today's Agenda\n",
    "\n",
    "- Update on work behind the scenes\n",
    "- Proposed Project Ideas\n",
    "- Previous Week's Data Challenge mini insights"
   ]
  },
  {
   "cell_type": "markdown",
   "metadata": {
    "slideshow": {
     "slide_type": "slide"
    }
   },
   "source": [
    "We've now created a Website to consolidate all the mediums, and its easy to remember too\n",
    "\n",
    "[https://notts.ai](https://notts.ai)\n",
    "\n",
    "![Notts Website Image](./images/nottsai_Snapshot.png)"
   ]
  },
  {
   "cell_type": "markdown",
   "metadata": {
    "slideshow": {
     "slide_type": "subslide"
    }
   },
   "source": [
    "For those who are not yet on Slack, here is the embedded invite:\n",
    "\n",
    "![](./images/slack_invite.png)"
   ]
  },
  {
   "cell_type": "markdown",
   "metadata": {
    "slideshow": {
     "slide_type": "subslide"
    }
   },
   "source": [
    "Github Organisation\n",
    "\n",
    "![](./images/github_projects.png)"
   ]
  },
  {
   "cell_type": "markdown",
   "metadata": {
    "slideshow": {
     "slide_type": "slide"
    }
   },
   "source": [
    "## Project 1\n",
    "  \n",
    "  \n",
    "> Helping a Nottingham based Blockchain project that is aiming to decentralise Voluntary/Charity Work. They are in need of an effective AI engine that identifies volunteers, and matches skills with the blockchain profiles created by the volunteer network  \n",
    "  \n",
    "Possible approaches (and many more):\n",
    "- NLP - NER / Features Extraction\n",
    "- Text Classification\n",
    "- tf-idf / RNN (Word Embeddings)"
   ]
  },
  {
   "cell_type": "markdown",
   "metadata": {
    "slideshow": {
     "slide_type": "subslide"
    }
   },
   "source": [
    "## Project 2\n",
    "\n",
    "Localised Kaggle competition:\n",
    "\n",
    "> Histopathologic Cancer Detection\n",
    "Identify metastatic tissue in histopathologic scans of lymph node sections  \n",
    "  \n",
    "[Kaggle Link](https://www.kaggle.com/c/histopathologic-cancer-detection)\n",
    "\n",
    "- a CNN implementation"
   ]
  },
  {
   "cell_type": "markdown",
   "metadata": {
    "slideshow": {
     "slide_type": "subslide"
    }
   },
   "source": [
    "## Project 3\n",
    "  \n",
    "> Nottingham Open Data website's Datasets. \n",
    " - Road traffic accidents (13000 rows of data, with precise long/lat locations and other fields). \n",
    " - Traffic Lights, Crossings, CCTV Cameras, One way Streets\n",
    "  \n",
    "> Loads of other Geo-Rich sources: ordnance survey data, historical weather and traffic data, speed limit data.  \n",
    "  \n",
    "\n",
    "explore data, visualise, model to predict factors that lead to accidents, eventually contribute to accident reduction initiatives.\n",
    "\n",
    "Midlands investment and regeneration opportunities:\n",
    "\n",
    "https://www.gov.uk/government/news/cutting-edge-digital-map-to-boost-midlands-engine"
   ]
  },
  {
   "cell_type": "markdown",
   "metadata": {
    "slideshow": {
     "slide_type": "slide"
    }
   },
   "source": [
    "## Previous Week's Data Challenge mini insights\n",
    "\n",
    "\n",
    "mini (or should say tiny really) as looked at only dataset: 2018's PCN Data (upto Q3 - September) https://www.opendatanottingham.org.uk/dataset.aspx?id=106\n",
    "\n",
    "\n",
    "![PCN Analysis Image](./images/pcn_2018_1.png)"
   ]
  },
  {
   "cell_type": "markdown",
   "metadata": {},
   "source": [
    "![PCN Analysis Image](./images/pcn_2018_2.png)"
   ]
  },
  {
   "cell_type": "markdown",
   "metadata": {
    "slideshow": {
     "slide_type": "subslide"
    }
   },
   "source": [
    "**Carrington Street Bus Gate**:\n",
    "\n",
    "Consistently highest earner for Nottingham Council (Over 400K in 2017)\n",
    "\n",
    "https://www.nottinghampost.com/news/more-170-people-fined-using-1421133\n",
    "\n",
    "https://www.bbc.co.uk/news/uk-england-nottinghamshire-38896536\n",
    "\n",
    "\n",
    "**Thurcaston Road**:\n",
    "\n",
    "Leicester and Nottingham Partnership\n",
    "\n",
    "https://www.leicestermercury.co.uk/news/leicester-news/thousands-drivers-caught-illegally-using-193612\n",
    "\n",
    "Council's expense: £35,000 to set up a camera system on the bridge"
   ]
  },
  {
   "cell_type": "markdown",
   "metadata": {
    "slideshow": {
     "slide_type": "slide"
    }
   },
   "source": [
    "## Curious Case of Carrington Street\n",
    "\n",
    "![](./images/Carrington_Street.png)"
   ]
  },
  {
   "cell_type": "markdown",
   "metadata": {
    "slideshow": {
     "slide_type": "subslide"
    }
   },
   "source": [
    "![](./images/carrington_street_1.png)"
   ]
  },
  {
   "cell_type": "markdown",
   "metadata": {
    "slideshow": {
     "slide_type": "subslide"
    }
   },
   "source": [
    "![](./images/carrington_street_2.png)"
   ]
  },
  {
   "cell_type": "markdown",
   "metadata": {
    "slideshow": {
     "slide_type": "subslide"
    }
   },
   "source": [
    "![](./images/carrington_street_3.png)"
   ]
  },
  {
   "cell_type": "markdown",
   "metadata": {
    "slideshow": {
     "slide_type": "subslide"
    }
   },
   "source": [
    "![](./images/carrington_street_4.png)"
   ]
  },
  {
   "cell_type": "markdown",
   "metadata": {
    "slideshow": {
     "slide_type": "subslide"
    }
   },
   "source": [
    "![](./images/carrington_street_5.png)"
   ]
  }
 ],
 "metadata": {
  "celltoolbar": "Slideshow",
  "kernelspec": {
   "display_name": "Python 3",
   "language": "python",
   "name": "python3"
  },
  "language_info": {
   "codemirror_mode": {
    "name": "ipython",
    "version": 3
   },
   "file_extension": ".py",
   "mimetype": "text/x-python",
   "name": "python",
   "nbconvert_exporter": "python",
   "pygments_lexer": "ipython3",
   "version": "3.6.5"
  }
 },
 "nbformat": 4,
 "nbformat_minor": 2
}
