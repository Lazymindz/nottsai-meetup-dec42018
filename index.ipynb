{
 "cells": [
  {
   "cell_type": "markdown",
   "metadata": {
    "slideshow": {
     "slide_type": "slide"
    }
   },
   "source": [
    "## NOTTS - AI Monthly Catchup - December 2018"
   ]
  },
  {
   "cell_type": "markdown",
   "metadata": {
    "slideshow": {
     "slide_type": "slide"
    }
   },
   "source": [
    "## Today's Agenda\n",
    "\n",
    "- Update on work behind the scenes\n",
    "- Proposed Project Ideas\n",
    "- Previous Week's Data Challenge mini insights"
   ]
  },
  {
   "cell_type": "markdown",
   "metadata": {
    "slideshow": {
     "slide_type": "slide"
    }
   },
   "source": [
    "We've now created a Website to consolidate all the mediums, and its easy to remember too\n",
    "\n",
    "[https://notts.ai](https://notts.ai)\n",
    "\n",
    "![Notts Website Image](./images/nottsai_Snapshot.png)"
   ]
  },
  {
   "cell_type": "markdown",
   "metadata": {
    "slideshow": {
     "slide_type": "subslide"
    }
   },
   "source": [
    "For those who are not yet on Slack, here is the embedded invite:\n",
    "\n",
    "![](./images/slack_invite.png)"
   ]
  },
  {
   "cell_type": "markdown",
   "metadata": {
    "slideshow": {
     "slide_type": "subslide"
    }
   },
   "source": [
    "Github Organisation\n",
    "\n",
    "![](./images/github_projects.png)"
   ]
  },
  {
   "cell_type": "markdown",
   "metadata": {
    "slideshow": {
     "slide_type": "slide"
    }
   },
   "source": [
    "## Project 1\n",
    "  \n",
    "  \n",
    "> Helping a Nottingham based Blockchain project that is aiming to decentralise Voluntary/Charity Work. They are in need of an effective AI engine that identifies volunteers, and matches skills with the blockchain profiles created by the volunteer network  \n",
    "  \n",
    "Possible approaches (and many more):\n",
    "- NLP - NER / Features Extraction\n",
    "- Text Classification\n",
    "- tf-idf / RNN (Word Embeddings)"
   ]
  },
  {
   "cell_type": "markdown",
   "metadata": {
    "slideshow": {
     "slide_type": "subslide"
    }
   },
   "source": [
    "## Project 2\n",
    "\n",
    "Localised Kaggle competition:\n",
    "\n",
    "> Histopathologic Cancer Detection\n",
    "Identify metastatic tissue in histopathologic scans of lymph node sections  \n",
    "  \n",
    "[Kaggle Link](https://www.kaggle.com/c/histopathologic-cancer-detection)\n",
    "\n",
    "- a CNN implementation"
   ]
  },
  {
   "cell_type": "markdown",
   "metadata": {
    "slideshow": {
     "slide_type": "subslide"
    }
   },
   "source": [
    "## Project 3\n",
    "  \n",
    "> Nottingham Open Data website's Datasets. \n",
    " - Road traffic accidents (13000 rows of data, with precise long/lat locations and other fields). \n",
    " - Traffic Lights, Crossings, CCTV Cameras, One way Streets\n",
    "  \n",
    "> Loads of other Geo-Rich sources: ordnance survey data, historical weather and traffic data, speed limit data.  \n",
    "  \n",
    "\n",
    "explore data, visualise, model to predict factors that lead to accidents, eventually contribute to accident reduction initiatives."
   ]
  },
  {
   "cell_type": "markdown",
   "metadata": {
    "slideshow": {
     "slide_type": "slide"
    }
   },
   "source": [
    "## Previous Week's Data Challenge mini insights"
   ]
  },
  {
   "cell_type": "code",
   "execution_count": null,
   "metadata": {
    "slideshow": {
     "slide_type": "subslide"
    }
   },
   "outputs": [],
   "source": []
  }
 ],
 "metadata": {
  "celltoolbar": "Slideshow",
  "kernelspec": {
   "display_name": "Python 3",
   "language": "python",
   "name": "python3"
  },
  "language_info": {
   "codemirror_mode": {
    "name": "ipython",
    "version": 3
   },
   "file_extension": ".py",
   "mimetype": "text/x-python",
   "name": "python",
   "nbconvert_exporter": "python",
   "pygments_lexer": "ipython3",
   "version": "3.6.5"
  }
 },
 "nbformat": 4,
 "nbformat_minor": 2
}
